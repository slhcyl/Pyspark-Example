{
 "cells": [
  {
   "cell_type": "code",
   "execution_count": 1,
   "id": "9a9ecef3-852e-40b9-b842-e5a0f0691f3e",
   "metadata": {},
   "outputs": [],
   "source": [
    "from pyspark.sql import SparkSession\n",
    "\n",
    "from pyspark.sql.functions import split"
   ]
  },
  {
   "cell_type": "code",
   "execution_count": 3,
   "id": "2002db4b-852f-447f-a754-15f8cbee480a",
   "metadata": {},
   "outputs": [],
   "source": [
    "# Create a Spark session\n",
    "spark = SparkSession.builder.appName('DateTransform').getOrCreate()"
   ]
  },
  {
   "cell_type": "code",
   "execution_count": 39,
   "id": "af6635cd-e68d-4a81-a28a-5d030d5e34ca",
   "metadata": {},
   "outputs": [],
   "source": [
    "# Sample input data\n",
    "\n",
    "data = [('A', '1-1/1990'),\n",
    "('B', '1\\\\2/1990'),\n",
    "('C', '1-3/1990'),\n",
    "('D', '1\\\\4/1990')]"
   ]
  },
  {
   "cell_type": "code",
   "execution_count": 40,
   "id": "18ac44c7-db7c-4fbc-b13b-561ca77cdc6a",
   "metadata": {},
   "outputs": [],
   "source": [
    "# Define the schema\n",
    "\n",
    "schema = ['Names', 'DOB']"
   ]
  },
  {
   "cell_type": "code",
   "execution_count": 41,
   "id": "44bd8e35-48b3-47b8-87e2-80e928c6e02c",
   "metadata": {},
   "outputs": [
    {
     "name": "stdout",
     "output_type": "stream",
     "text": [
      "+-----+--------+\n",
      "|Names|     DOB|\n",
      "+-----+--------+\n",
      "|    A|1-1/1990|\n",
      "|    B|1\\2/1990|\n",
      "|    C|1-3/1990|\n",
      "|    D|1\\4/1990|\n",
      "+-----+--------+\n",
      "\n"
     ]
    }
   ],
   "source": [
    "# Create a DataFrame\n",
    "\n",
    "df = spark.createDataFrame(data, schema)\n",
    "df.show()"
   ]
  },
  {
   "cell_type": "code",
   "execution_count": 42,
   "id": "073b85d4-0eb8-40bc-b830-4bc10b082833",
   "metadata": {},
   "outputs": [],
   "source": [
    "# Split the “DOB” column into “Date,” “Month,” and “Year”\n",
    "\n",
    "split_date = split(df['DOB'], '[-\\\\\\\\/]')"
   ]
  },
  {
   "cell_type": "code",
   "execution_count": 43,
   "id": "d1e3bcf3-8cee-4621-9889-5ee8cc835be0",
   "metadata": {},
   "outputs": [],
   "source": [
    "# Create the output DataFrame\n",
    "\n",
    "output_df = df.withColumn('Date', split_date.getItem(0)) \\\n",
    ".withColumn('Month', split_date.getItem(1)) \\\n",
    ".withColumn('Year', split_date.getItem(2))"
   ]
  },
  {
   "cell_type": "code",
   "execution_count": 32,
   "id": "65c20dab-c002-436a-bf55-dbc47012b753",
   "metadata": {},
   "outputs": [
    {
     "name": "stdout",
     "output_type": "stream",
     "text": [
      "+-----+--------+----+-----+----+\n",
      "|Names|     DOB|Date|Month|Year|\n",
      "+-----+--------+----+-----+----+\n",
      "|    A|1-1/1990|   1|    1|1990|\n",
      "|    B|1-2/1990|   1|    2|1990|\n",
      "|    C|1-3/1990|   1|    3|1990|\n",
      "|    D|1-4/1990|   1|    4|1990|\n",
      "+-----+--------+----+-----+----+\n",
      "\n"
     ]
    }
   ],
   "source": [
    "output_df.show()"
   ]
  },
  {
   "cell_type": "code",
   "execution_count": null,
   "id": "bd79a88f-52f8-4d9e-a543-71eb84687ee0",
   "metadata": {},
   "outputs": [],
   "source": []
  }
 ],
 "metadata": {
  "kernelspec": {
   "display_name": "Python 3 (ipykernel)",
   "language": "python",
   "name": "python3"
  },
  "language_info": {
   "codemirror_mode": {
    "name": "ipython",
    "version": 3
   },
   "file_extension": ".py",
   "mimetype": "text/x-python",
   "name": "python",
   "nbconvert_exporter": "python",
   "pygments_lexer": "ipython3",
   "version": "3.11.6"
  }
 },
 "nbformat": 4,
 "nbformat_minor": 5
}
